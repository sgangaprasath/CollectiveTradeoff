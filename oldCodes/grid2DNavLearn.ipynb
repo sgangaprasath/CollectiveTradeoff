{
 "cells": [
  {
   "attachments": {},
   "cell_type": "markdown",
   "metadata": {},
   "source": [
    "## Code to simulate dynamics of an agent moving in a 2D grid and learning to move optimally from point A to B\n",
    "\n",
    "Initial seed for the code comes from `chatGPT-3`\n",
    "\n",
    "-- S Ganga prasath 21 Mar, 2023"
   ]
  },
  {
   "cell_type": "code",
   "execution_count": 2,
   "metadata": {},
   "outputs": [],
   "source": [
    "import numpy as np\n",
    "import random\n",
    "import matplotlib as mpl\n",
    "import matplotlib.pyplot as plt\n",
    "import matplotlib.gridspec as gridspec"
   ]
  },
  {
   "cell_type": "code",
   "execution_count": 3,
   "metadata": {},
   "outputs": [],
   "source": [
    "# Parameters in the model\n",
    "class params():\n",
    "    def __init__(self) -> None:\n",
    "        super().__init__()\n",
    "        self.nPts = 20\n",
    "        self.rInit = np.array([0, 0])\n",
    "        self.rEnd = np.array([15, 5])\n",
    "        self.eps = 0.25"
   ]
  },
  {
   "cell_type": "code",
   "execution_count": 4,
   "metadata": {},
   "outputs": [],
   "source": [
    "# Define the action selection function using epsilon-greedy policy\n",
    "def choose_action(state, Q, epsilon):\n",
    "    if np.random.uniform() < epsilon:\n",
    "        return np.random.randint(4)\n",
    "    else:\n",
    "        return np.argmax(Q[state[0], state[1]])"
   ]
  },
  {
   "cell_type": "code",
   "execution_count": 5,
   "metadata": {},
   "outputs": [],
   "source": [
    "# Define the function to take an action and get the next state and reward\n",
    "# action = (left, right, bottom, top)\n",
    "def take_action(state, action, env, p):\n",
    "    if action == 0 and state[0] > 0:\n",
    "        next_state = (state[0]-1, state[1])\n",
    "    elif action == 1 and state[0] < env.shape[0]-1:\n",
    "        next_state = (state[0]+1, state[1])\n",
    "    elif action == 2 and state[1] > 0:\n",
    "        next_state = (state[0], state[1]-1)\n",
    "    elif action == 3 and state[1] < env.shape[1]-1:\n",
    "        next_state = (state[0], state[1]+1)\n",
    "    else:\n",
    "        next_state = state\n",
    "    if (next_state == p.rEnd).all():\n",
    "        reward = 10\n",
    "    else:\n",
    "        reward = -1\n",
    "    return next_state, reward"
   ]
  },
  {
   "cell_type": "code",
   "execution_count": 6,
   "metadata": {},
   "outputs": [],
   "source": [
    "# Define the SARSA algorithm\n",
    "def sarsa(env, p, num_episodes=20000, alpha=0.1, gamma=0.99, epsilon=0.1):\n",
    "    Q = np.zeros((env.shape[0], env.shape[1], 4))\n",
    "    for i in range(num_episodes):\n",
    "        state = p.rInit\n",
    "        action = choose_action(state, Q, epsilon)\n",
    "        while (state != p.rEnd).all():\n",
    "            next_state, reward = take_action(state, action, env, p)\n",
    "            next_action = choose_action(next_state, Q, epsilon)\n",
    "            Q[state[0], state[1], action] += alpha * (reward + gamma * Q[next_state[0], next_state[1], next_action] - Q[state[0], state[1], action])\n",
    "            state = next_state\n",
    "            action = next_action\n",
    "    return Q"
   ]
  },
  {
   "cell_type": "code",
   "execution_count": 7,
   "metadata": {},
   "outputs": [],
   "source": [
    "def main():\n",
    "    p = params()\n",
    "    env = np.zeros((p.nPts, p.nPts))\n",
    "    # Train the agent and get the optimal policy\n",
    "    Q = sarsa(env, p)\n",
    "    policy = np.zeros((env.shape[0], env.shape[1]))\n",
    "    for i in range(p.nPts):\n",
    "        for j in range(p.nPts):\n",
    "            policy[i, j] = np.argmax(Q[i, j])\n",
    "\n",
    "    # Print the optimal policy\n",
    "    print(\"Optimal policy:\")\n",
    "    print(policy)"
   ]
  },
  {
   "cell_type": "code",
   "execution_count": 8,
   "metadata": {},
   "outputs": [
    {
     "name": "stdout",
     "output_type": "stream",
     "text": [
      "Optimal policy:\n",
      "[[3. 3. 3. 3. 3. 0. 0. 0. 0. 0. 0. 0. 0. 0. 0. 0. 0. 0. 0. 0.]\n",
      " [3. 3. 3. 3. 3. 0. 0. 0. 0. 0. 0. 0. 0. 0. 0. 0. 0. 0. 0. 0.]\n",
      " [1. 3. 3. 3. 3. 0. 0. 0. 0. 0. 0. 0. 0. 0. 0. 0. 0. 0. 0. 0.]\n",
      " [2. 2. 1. 3. 3. 0. 0. 0. 0. 0. 0. 0. 0. 0. 0. 0. 0. 0. 0. 0.]\n",
      " [0. 3. 3. 1. 3. 0. 0. 0. 0. 0. 0. 0. 0. 0. 0. 0. 0. 0. 0. 0.]\n",
      " [0. 3. 3. 1. 3. 0. 0. 0. 0. 0. 0. 0. 0. 0. 0. 0. 0. 0. 0. 0.]\n",
      " [1. 3. 1. 3. 0. 0. 0. 0. 0. 0. 0. 0. 0. 0. 0. 0. 0. 0. 0. 0.]\n",
      " [1. 1. 1. 3. 3. 0. 0. 0. 0. 0. 0. 0. 0. 0. 0. 0. 0. 0. 0. 0.]\n",
      " [3. 0. 2. 1. 0. 0. 0. 0. 0. 0. 0. 0. 0. 0. 0. 0. 0. 0. 0. 0.]\n",
      " [1. 2. 0. 0. 1. 0. 0. 0. 0. 0. 0. 0. 0. 0. 0. 0. 0. 0. 0. 0.]\n",
      " [1. 0. 2. 2. 1. 0. 0. 0. 0. 0. 0. 0. 0. 0. 0. 0. 0. 0. 0. 0.]\n",
      " [1. 1. 3. 0. 0. 0. 0. 0. 0. 0. 0. 0. 0. 0. 0. 0. 0. 0. 0. 0.]\n",
      " [0. 3. 2. 0. 3. 0. 0. 0. 0. 0. 0. 0. 0. 0. 0. 0. 0. 0. 0. 0.]\n",
      " [1. 0. 3. 0. 3. 0. 0. 0. 0. 0. 0. 0. 0. 0. 0. 0. 0. 0. 0. 0.]\n",
      " [3. 3. 2. 0. 2. 0. 0. 0. 0. 0. 0. 0. 0. 0. 0. 0. 0. 0. 0. 0.]\n",
      " [0. 0. 0. 0. 0. 0. 0. 0. 0. 0. 0. 0. 0. 0. 0. 0. 0. 0. 0. 0.]\n",
      " [0. 0. 0. 0. 0. 0. 0. 0. 0. 0. 0. 0. 0. 0. 0. 0. 0. 0. 0. 0.]\n",
      " [0. 0. 0. 0. 0. 0. 0. 0. 0. 0. 0. 0. 0. 0. 0. 0. 0. 0. 0. 0.]\n",
      " [0. 0. 0. 0. 0. 0. 0. 0. 0. 0. 0. 0. 0. 0. 0. 0. 0. 0. 0. 0.]\n",
      " [0. 0. 0. 0. 0. 0. 0. 0. 0. 0. 0. 0. 0. 0. 0. 0. 0. 0. 0. 0.]]\n"
     ]
    }
   ],
   "source": [
    "if __name__ == '__main__':\n",
    "    main()"
   ]
  }
 ],
 "metadata": {
  "kernelspec": {
   "display_name": "base",
   "language": "python",
   "name": "python3"
  },
  "language_info": {
   "codemirror_mode": {
    "name": "ipython",
    "version": 3
   },
   "file_extension": ".py",
   "mimetype": "text/x-python",
   "name": "python",
   "nbconvert_exporter": "python",
   "pygments_lexer": "ipython3",
   "version": "3.9.13"
  },
  "orig_nbformat": 4
 },
 "nbformat": 4,
 "nbformat_minor": 2
}
